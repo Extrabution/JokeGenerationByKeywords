{
 "cells": [
  {
   "cell_type": "code",
   "execution_count": 25,
   "outputs": [],
   "source": [
    "import pickle\n",
    "f = open(\"article_texts.txt\",'rb')\n",
    "texts = pickle.load(f, encoding=\"UTF-8\")"
   ],
   "metadata": {
    "collapsed": false
   }
  },
  {
   "cell_type": "code",
   "execution_count": 10,
   "outputs": [],
   "source": [
    "text = ['SpaceX Starship Blows Up Minutes After Launch',\n",
    " 'SpaceX’s Starship rocket, the most powerful ever built, blasted off on an unpiloted maiden flight Thursday, flying for more than two minutes before exploding. What do you think?']"
   ],
   "metadata": {
    "collapsed": false
   }
  },
  {
   "cell_type": "code",
   "execution_count": 18,
   "outputs": [],
   "source": [
    "from transformers import BertTokenizer\n",
    "\n",
    "tokenizer = BertTokenizer.from_pretrained('bert-base-uncased')\n",
    "\n",
    "def tokenize(data:str):\n",
    "    inputs = tokenizer(data, return_tensors=\"pt\", truncation=True, padding=True)\n",
    "    return inputs"
   ],
   "metadata": {
    "collapsed": false
   }
  },
  {
   "cell_type": "code",
   "execution_count": 23,
   "outputs": [
    {
     "name": "stdout",
     "output_type": "stream",
     "text": [
      "[CLS] spacex starship blows up minutes after launch [SEP]\n",
      "['[CLS]', 'space', '##x', 'stars', '##hip', 'blows', 'up', 'minutes', 'after', 'launch', '[SEP]']\n"
     ]
    }
   ],
   "source": [
    "tokenized_text = []\n",
    "for i in text:\n",
    "    tokenized_text.append(tokenize(i))\n",
    "print(tokenizer.decode(tokenized_text[0].input_ids[0]))\n",
    "print(tokenizer.convert_ids_to_tokens(tokenized_text[0].input_ids[0]))"
   ],
   "metadata": {
    "collapsed": false
   }
  },
  {
   "cell_type": "code",
   "execution_count": 28,
   "outputs": [],
   "source": [
    "from transformers import AutoTokenizer, AutoModelForTokenClassification\n",
    "from transformers import pipeline\n",
    "\n",
    "tokenizer = AutoTokenizer.from_pretrained(\"dslim/bert-base-NER\")\n",
    "model = AutoModelForTokenClassification.from_pretrained(\"dslim/bert-base-NER\")\n",
    "\n",
    "nlp = pipeline(\"ner\", model=model, tokenizer=tokenizer)"
   ],
   "metadata": {
    "collapsed": false
   }
  },
  {
   "cell_type": "code",
   "execution_count": 30,
   "outputs": [
    {
     "name": "stdout",
     "output_type": "stream",
     "text": [
      "[{'entity': 'B-ORG', 'score': 0.9662267, 'index': 1, 'word': 'Space', 'start': 0, 'end': 5}, {'entity': 'I-ORG', 'score': 0.9833915, 'index': 2, 'word': '##X', 'start': 5, 'end': 6}, {'entity': 'I-ORG', 'score': 0.9853961, 'index': 3, 'word': 'Stars', 'start': 7, 'end': 12}, {'entity': 'I-ORG', 'score': 0.92244077, 'index': 4, 'word': '##hip', 'start': 12, 'end': 15}]\n"
     ]
    }
   ],
   "source": [
    "example = text[0]\n",
    "ner_results = nlp(example)\n",
    "print(ner_results)"
   ],
   "metadata": {
    "collapsed": false
   }
  }
 ],
 "metadata": {
  "kernelspec": {
   "display_name": "Python 3",
   "language": "python",
   "name": "python3"
  },
  "language_info": {
   "codemirror_mode": {
    "name": "ipython",
    "version": 2
   },
   "file_extension": ".py",
   "mimetype": "text/x-python",
   "name": "python",
   "nbconvert_exporter": "python",
   "pygments_lexer": "ipython2",
   "version": "2.7.6"
  }
 },
 "nbformat": 4,
 "nbformat_minor": 0
}
